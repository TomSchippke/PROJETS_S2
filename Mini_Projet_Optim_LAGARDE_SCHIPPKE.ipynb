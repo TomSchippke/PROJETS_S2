{
 "cells": [
  {
   "cell_type": "markdown",
   "metadata": {},
   "source": [
    "## 1 Etude du problème d’optimisation\n",
    "\n"
   ]
  },
  {
   "cell_type": "markdown",
   "metadata": {},
   "source": [
    "**1.** \n",
    "\n",
    "Sur un intervalle de temps $[t_i;t_{i+1}]$ le tarif d'électricité est supposé constant de valeur $c_i$. Ainsi l'énergie consommée sur cet intervalle de temps étant $(t_{i+1} - t_i)P_i = \\Delta t P_i$, le prix a payer est alors $c_i \\Delta t P_i$.\n",
    "\n",
    "Au final, la fatcure totale est obtenue en sommant les factures sur les intervalles $[t_i;t_{i+1}]$ pour $i \\in [0,n]$, donc **le prix total à payer est**: \n",
    "\n",
    "$$\\sum_{i=0}^{n}{c_i \\Delta t P_i}=\\Delta t  \\sum_{i=0}^{n}{c_i P_i}$$"
   ]
  },
  {
   "cell_type": "markdown",
   "metadata": {},
   "source": [
    "**2.**\n",
    "\n",
    "**Interpréter l’équation (2). Quels échanges thermiques incorpore-t-elle ? Cette modélisation vous semblet-elle raisonnable ?**"
   ]
  },
  {
   "cell_type": "markdown",
   "metadata": {},
   "source": [
    "**3. Version 1**\n",
    "\n",
    "L'objectif du problème est de **minimiser la facture** *(5)* de chaufage à payer en **respectant différentes contraintes**.\n",
    "\n",
    "On considère que les variables $(T_i^e)_{i \\in [1,N]}$ sont entièrement définies par une loi extérieure et ne dépendent pas de l'utilisateur. On considère ainsi les variables de décisions $$x=(T_0,P_0,..., T_i,P_i,...,T_N,P_N)$$ au **nombre de $2(N+1)$**.\n",
    "\n",
    "On pose de plus, afin de traduire la recherche de minimisation de la fatcure *(5)*,\n",
    "$$f(x)=\\Delta t  \\sum_{i=0}^{n}{c_i P_i}$$\n",
    " afin de chercher à résoudre $\\min\\limits_{x \\in\\Re ^{2N}}{f(x)}$.\n",
    "\n",
    "On traduit la contrainte de confort *(4)* et de puissance disponible *(1)* en posant: $$c_{in}(x)= \\begin{pmatrix} T_m - T_0 \\\\  T_0 - T_M \\\\ P_0 - P_M \\\\ ... \\\\ T_m - T_i \\\\  T_i - T_M \\\\ P_i - P_M \\\\ ... \\\\ T_m - T_N \\\\  T_N - T_M \\\\ P_N - P_M  \\end{pmatrix}  \\le 0$$\n",
    "\n",
    "Enfin, on traduit l'évolution (discrétisée) de la température *(2)* et les conditions initiales *(3)*: $$c_{eq}(x)= \\begin{pmatrix} e^{-(k+h) \\Delta t} T_0 + \\frac{1-e^{-(k+h) \\Delta t}}{k+h}(bP_0 +hT_0^e) - T_{1}  \\\\ ... \\\\  e^{-(k+h) \\Delta t} T_i + \\frac{1-e^{-(k+h) \\Delta t}}{k+h}(bP_i +hT_i^e) - T_{i+1} \\\\ ... \\\\ e^{-(k+h) \\Delta t} T_{N-1} + \\frac{1-e^{-(k+h) \\Delta t}}{k+h}(bP_{N-1} +hT_{N-1}^e) - T_{N} \\\\ T_0 - T_{in} \\\\ P_N \\end{pmatrix}  = 0$$"
   ]
  },
  {
   "cell_type": "markdown",
   "metadata": {},
   "source": [
    "**3. Version 2**\n",
    "\n",
    "L'objectif du problème est de **minimiser la facture** *(5)* de chaufage à payer en **respectant différentes contraintes**.\n",
    "\n",
    "On considère que les variables $(T_i^e)_{i \\in [1,N]}$ sont entièrement définies par une loi extérieure et ne dépendent pas de l'utilisateur. De plus, les variables $T_0=T_{in}$ Et $P_N = 0$ sont imposées par l'énoncé. On considère ainsi les variables de décisions $$x=(P_0, T_1, P_1..., T_i,P_i,...,T_{N-1}, P_{N-1},T_N)$$ au **nombre de $2N$**.\n",
    "\n",
    "On pose de plus, afin de traduire la recherche de minimisation de la fatcure *(5)*,\n",
    "$$f(x)=\\Delta t  \\sum_{i=0}^{n}{c_i P_i}$$\n",
    " afin de chercher à résoudre $\\min\\limits_{x \\in\\Re ^{2N}}{f(x)}$.\n",
    "\n",
    "On traduit la contrainte de confort *(4)* et de puissance disponible *(1)* (qu'on suppose compatible avec les conditions initiales imposées) en posant: $$c_{in}(x)= \\begin{pmatrix} P_0 - P_M \\\\ T_m - T_1 \\\\  T_1 - T_M \\\\ P_1 - P_M \\\\ ... \\\\ T_m - T_i \\\\  T_i - T_M \\\\ P_i - P_M \\\\ ... \\\\ T_m - T_N \\\\  T_N - T_M  \\end{pmatrix}  \\le 0$$\n",
    "\n",
    "Enfin, on traduit l'évolution (discrétisée) de la température *(2)* et les conditions initiales *(3)*: $$c_{eq}(x)= \\begin{pmatrix} e^{-(k+h) \\Delta t} T_0 + \\frac{1-e^{-(k+h) \\Delta t}}{k+h}(bP_0 +hT_0^e) - T_{1}  \\\\ ... \\\\  e^{-(k+h) \\Delta t} T_i + \\frac{1-e^{-(k+h) \\Delta t}}{k+h}(bP_i +hT_i^e) - T_{i+1} \\\\ ... \\\\ e^{-(k+h) \\Delta t} T_{N-1} + \\frac{1-e^{-(k+h) \\Delta t}}{k+h}(bP_{N-1} +hT_{N-1}^e) - T_{N}  \\end{pmatrix}  = 0$$"
   ]
  },
  {
   "cell_type": "markdown",
   "metadata": {},
   "source": [
    "**4. (avec deuxieme version du 3)**\n",
    "\n",
    "\n",
    "D'une part **f est clairement convexe** *(6)*: $\\nabla ^2 f(x)=0 \\geq 0$.\n",
    "\n",
    "D'autre part on peut écrire $c_{eq}(x) = Ax + B$, avec $$A=\\begin{pmatrix} \\frac{1-e^{-(k+h) \\Delta t}}{k+h}b & -1 & 0 & 0 & 0  &...& 0&0 & 0 & 0 \\\\ 0 &  e^{-(k+h) \\Delta t} & \\frac{1-e^{-(k+h) \\Delta t}}{k+h}b & -1 &0  & ... &0& 0& 0 & 0 \\\\ ... & ... & ...& ... & ... & ... & ... & ... & ... & ... \\\\ 0 & 0 & 0& 0 & 0 & ... &0& e^{-(k+h) \\Delta t} & \\frac{1-e^{-(k+h) \\Delta t}}{k+h}b & -1 \\end{pmatrix}$$ et \n",
    "$$B= \\begin{pmatrix} e^{-(k+h) \\Delta t} T_0 + \\frac{1-e^{-(k+h) \\Delta t}}{k+h} hT_0^e \\\\ \\frac{1-e^{-(k+h) \\Delta t}}{k+h} hT_1^e \\\\...\\\\\\frac{1-e^{-(k+h) \\Delta t}}{k+h} hT_i^e\\\\...\\\\\\frac{1-e^{-(k+h) \\Delta t}}{k+h} hT_{N-1}^e \\end{pmatrix}$$\n",
    "\n",
    "Ainsi la contrainte égalité **$c_{eq}$ est affine** *(7)*.\n",
    "\n",
    "Enfin **$c_{in}$ est convexe** *(8)* car $\\forall i$ $  c_{in,3i}(x)=T_m - T_i,  c_{in,3i+1}(x)=T_i- T_M ,  c_{in,3i+2}(x)=P_i - T_M$ sont clairement convexes.\n",
    "\n",
    "Ainsi, par *(6), (7)* et *(8)*, le **problème étudié est convexe**. Il s'agit par ailleurs d'un **problème d'optimalité à contrainte égalité et inégalité**."
   ]
  },
  {
   "cell_type": "markdown",
   "metadata": {},
   "source": [
    "## 2 Etude et résolution numérique du problème individuel\n"
   ]
  },
  {
   "cell_type": "markdown",
   "metadata": {},
   "source": [
    "**5.**\n",
    "\n",
    "Le problème étant convexe, il est possible d'utiliser le **théorème de Karush-Kuhn-Tucker (KKT)** pour trouver des potentielles solutions (les conditions nécessaires aux théorème sont aussi dans ce cas suffisantes).\n",
    "\n",
    "On pourrait aussi utiliser **l'algorithme d'Uzawa** pour résoudre le problème numériquement.\n",
    "\n",
    "\n",
    "**AUTRES METHODES ?**\n"
   ]
  },
  {
   "cell_type": "markdown",
   "metadata": {},
   "source": [
    "**6.**"
   ]
  },
  {
   "cell_type": "code",
   "execution_count": 23,
   "metadata": {},
   "outputs": [
    {
     "data": {
      "image/png": "[encoded data removed]",
      "text/plain": [
       "<Figure size 640x480 with 2 Axes>"
      ]
     },
     "metadata": {},
     "output_type": "display_data"
    }
   ],
   "source": [
    "import numpy as np \n",
    "import matplotlib.pyplot as plt\n",
    "\n",
    "#définition des constantes du problème\n",
    "c_cr=1\n",
    "c_pl=1.50\n",
    "T_m=18 + 273 #températures exprimées en Kelvin\n",
    "T_M=30 + 273\n",
    "T_in=T_m\n",
    "h=0.05\n",
    "k=0.01\n",
    "b=1/500\n",
    "P_M=5000\n",
    "dt=0.5\n",
    "t_0=23\n",
    "\n",
    "temps=[i/2 for i in range (0,48)]\n",
    "temps=np.array(temps)\n",
    "T=np.zeros(48) #liste des températures (de 00h à 23h30 avec un pas de 30min)\n",
    "Power=np.zeros(48) #liste des puissances (de 00h à 23h30 avec un pas de 30min)\n",
    "T[23*2]=T_in   #ajout de la condition initiale de température (algo commencant à 23h)\n",
    "\n",
    "\n",
    "#construction de la liste des tarifs C sous la forme [c_0, c_1, ...] où c_0 correspond donc au tarif de 00h à 00h30, c_1 de 00h30 à 1h00 etc\n",
    "C=[]\n",
    "for i in range (48):\n",
    "    t=i*dt\n",
    "    if (0<=t and t<6) or (12<=t and t<14):\n",
    "        C.append(c_cr)\n",
    "    else:\n",
    "        C.append(c_pl)\n",
    "C=np.array(C)\n",
    "\n",
    "#construction de la liste de présence P sous la forme [True, False, ...], le booléen à l'indice i indiquant si les occupants sont présents sur [t_i,t_i+1] \n",
    "P=[]\n",
    "for i in range (48):\n",
    "    t=i*dt\n",
    "    if (7<=t and t<9) or (18<=t and t<23):\n",
    "        P.append(True)\n",
    "    else:\n",
    "        P.append(False)\n",
    "P=np.array(P)\n",
    "\n",
    "\n",
    "def outside_temp(ti):\n",
    "    '''fonction renvoyant la température extérieur à une heure donnée'''\n",
    "    t=ti%24 #obtenir l'heure modulo 24\n",
    "    return 4+8*np.exp((-(t-12)**2 )/40)\n",
    "\n",
    "\n",
    "def evolution_temp(Ti,Pi,Tie):\n",
    "    '''fonction prenant en paramètre T_i, P_i et T_i_e et renvoyant T_(i+1)'''\n",
    "    return np.exp(-(k+h)*dt)*Ti+ ((1-np.exp(-(k+h)*dt))/(k+h))*(b*Pi+h*Tie)\n",
    "\n",
    "\n",
    "###algo de résolution\n",
    "\n",
    "##XX\n",
    "\n",
    "##affichage des graphiques intéressants\n",
    "plt.subplot(2, 1, 1)\n",
    "plt.plot(temps, T-273)\n",
    "plt.xlabel('Temps (en heure)')\n",
    "plt.ylabel('Température (en degrés Celsius)')\n",
    "\n",
    "plt.subplot(2, 1, 2)\n",
    "plt.plot(temps, Power/5000)\n",
    "plt.xlabel('Temps (en heure)')\n",
    "plt.ylabel('Puissance normalisée (en PM W)')\n",
    "\n",
    "plt.tight_layout()     \n",
    "plt.show()"
   ]
  }
 ],
 "metadata": {
  "kernelspec": {
   "display_name": "base",
   "language": "python",
   "name": "python3"
  },
  "language_info": {
   "codemirror_mode": {
    "name": "ipython",
    "version": 3
   },
   "file_extension": ".py",
   "mimetype": "text/x-python",
   "name": "python",
   "nbconvert_exporter": "python",
   "pygments_lexer": "ipython3",
   "version": "3.11.4"
  }
 },
 "nbformat": 4,
 "nbformat_minor": 2
}
