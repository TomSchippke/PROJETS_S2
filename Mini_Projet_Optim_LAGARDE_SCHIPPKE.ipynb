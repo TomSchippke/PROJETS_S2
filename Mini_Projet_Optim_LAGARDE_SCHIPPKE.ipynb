{
 "cells": [
  {
   "cell_type": "markdown",
   "metadata": {},
   "source": [
    "## 1 Etude du problème d’optimisation\n",
    "\n"
   ]
  },
  {
   "cell_type": "markdown",
   "metadata": {},
   "source": [
    "**1.** \n",
    "\n",
    "Sur un intervalle de temps $[t_i;t_{i+1}]$ le tarif d'électricité est supposé constant de valeur $c_i$. Ainsi l'énergie consommée sur cet intervalle de temps étant $(t_{i+1} - t_i)P_i = \\Delta t P_i$, le prix a payer est alors $c_i \\Delta t P_i$.\n",
    "\n",
    "Au final, la fatcure totale est obtenue en sommant les factures sur les intervalles $[t_i;t_{i+1}]$ pour $i \\in [0,n]$, donc **le prix total à payer est**: \n",
    "\n",
    "$$\\sum_{i=0}^{n}{c_i \\Delta t P_i}=\\Delta t  \\sum_{i=0}^{n}{c_i P_i}$$"
   ]
  },
  {
   "cell_type": "markdown",
   "metadata": {},
   "source": [
    "**2.**\n",
    "\n",
    "**Interpréter l’équation (2). Quels échanges thermiques incorpore-t-elle ? Cette modélisation vous semblet-elle raisonnable ?**"
   ]
  },
  {
   "cell_type": "markdown",
   "metadata": {},
   "source": [
    "**3.**\n",
    "\n",
    "L'objectif du problème est de minimiser la facture de chaufage à payer en respectant différentes contraintes.\n",
    "\n",
    "Ainsi on pose $f(x)=\\Delta t  \\sum_{i=0}^{n}{c_i P_i}$ afin de chercher à résoudre $\\min\\limits_{x \\in R}{f(x)}$.\n",
    "\n",
    "On traduit la contrainte de confort en posant **$c_{in}(x)= \\begin{pmatrix} T_m - T_i \\\\  T_i - T_M \\\\ P_i - P_M \\end{pmatrix}  \\le 0$**."
   ]
  }
 ],
 "metadata": {
  "kernelspec": {
   "display_name": "base",
   "language": "python",
   "name": "python3"
  },
  "language_info": {
   "codemirror_mode": {
    "name": "ipython",
    "version": 3
   },
   "file_extension": ".py",
   "mimetype": "text/x-python",
   "name": "python",
   "nbconvert_exporter": "python",
   "pygments_lexer": "ipython3",
   "version": "3.11.4"
  }
 },
 "nbformat": 4,
 "nbformat_minor": 2
}
